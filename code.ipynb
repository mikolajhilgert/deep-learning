{
 "cells": [
  {
   "cell_type": "markdown",
   "id": "1c98c83c",
   "metadata": {},
   "source": [
    "# <center> Deep Learning: Individual Assignment </center>\n",
    "##### <center> Author: Mikolaj Hilgert </center>"
   ]
  },
  {
   "cell_type": "markdown",
   "id": "d3440ee0",
   "metadata": {},
   "source": [
    "### Import and Settings"
   ]
  },
  {
   "cell_type": "code",
   "execution_count": null,
   "id": "0a31b367",
   "metadata": {},
   "outputs": [],
   "source": [
    "import torch\n",
    "import torch.nn as nn\n",
    "import torch.optim as optim\n",
    "from torch.utils.data import Dataset, DataLoader, random_split\n",
    "import numpy as np\n",
    "import pandas as pd\n",
    "import os\n",
    "import matplotlib.pyplot as plt\n",
    "import seaborn as sns\n",
    "\n",
    "# Set seed\n",
    "SEED = 31\n",
    "torch.manual_seed(SEED)\n",
    "np.random.seed(SEED)\n",
    "os.environ[\"KMP_DUPLICATE_LIB_OK\"] = \"TRUE\"\n",
    "\n",
    "# If you want to use the model for inference only, set this to True\n",
    "# This will disable the data preview, training and validation code, and only run the inference code\n",
    "ONLY_INFERENCE = False\n",
    "# If you want to round the predicted Rings to the nearest integer during inference, set this to True\n",
    "ROUND_PRED_TO_INTEGER = False"
   ]
  },
  {
   "cell_type": "markdown",
   "id": "6432093f",
   "metadata": {},
   "source": [
    "To skip to inference section, click [here](#inference) and `Run All`."
   ]
  },
  {
   "cell_type": "markdown",
   "id": "97c4de00",
   "metadata": {},
   "source": [
    "### Data Preview "
   ]
  },
  {
   "cell_type": "code",
   "execution_count": null,
   "id": "98d2a4c0",
   "metadata": {},
   "outputs": [],
   "source": [
    "if not ONLY_INFERENCE:\n",
    "    # Preview data\n",
    "    df = pd.read_csv(\"data/train.csv\")\n",
    "    print(df.info())\n",
    "    \n",
    "    # Pairplot\n",
    "    print(\"\\nPairplot of 'train.csv'\")\n",
    "    sns.pairplot(df, diag_kind=\"kde\", height=1.2)\n",
    "    plt.show()\n",
    "\n",
    "    # Correlation heatmap\n",
    "    sns.heatmap(df.drop(columns=[\"Sex\"]).corr(), annot=True, fmt=\".2f\", cmap=\"coolwarm\", cbar=True)\n",
    "    plt.title(\"Correlation Heatmap\")\n",
    "    plt.show()"
   ]
  },
  {
   "cell_type": "markdown",
   "id": "dcf1cae8",
   "metadata": {},
   "source": [
    "### Dataset Definition"
   ]
  },
  {
   "cell_type": "code",
   "execution_count": 5,
   "id": "8e94af33",
   "metadata": {},
   "outputs": [],
   "source": [
    "class MyDataset(Dataset):  \n",
    "    def __init__(self, data, mean, std, train=True):\n",
    "        self.train = train\n",
    "        self.data = data\n",
    "        \n",
    "        # Drop the target feature\n",
    "        features = self.data.drop(columns=[\"Rings\"]) if train else self.data\n",
    "\n",
    "        # OHE of Sex (Categorical) feature \n",
    "        sex_mapping = {\"M\": 0, \"F\": 1, \"I\": 2}\n",
    "        sex_labels = features[\"Sex\"].map(sex_mapping).values\n",
    "        categorical_features = torch.nn.functional.one_hot(torch.tensor(sex_labels), num_classes=len(sex_mapping))\n",
    "\n",
    "        # Select and standardize the numerical features (this works because `Rings` is int)\n",
    "        numerical_features = torch.tensor(features.select_dtypes(include=[\"float\"]).values, dtype=torch.float)\n",
    "        numerical_features = (numerical_features - mean) / std\n",
    "        \n",
    "        # Concatenate numerical and categorical features\n",
    "        self.features = torch.cat((numerical_features, categorical_features), dim=1)\n",
    "\n",
    "        # Use labels during training\n",
    "        if self.train:\n",
    "            self.labels = torch.tensor(self.data[\"Rings\"].values, dtype=torch.float).unsqueeze(1)\n",
    "        else:\n",
    "            self.labels = None\n",
    "\n",
    "    def __len__(self):\n",
    "        return len(self.data)\n",
    "    \n",
    "    def __getitem__(self, idx): \n",
    "        if self.train:\n",
    "            return self.features[idx], self.labels[idx]\n",
    "        else:\n",
    "            return self.features[idx]"
   ]
  },
  {
   "cell_type": "code",
   "execution_count": null,
   "id": "c3f211e0",
   "metadata": {},
   "outputs": [],
   "source": [
    "# Load the training dataset\n",
    "whole_train = pd.read_csv(\"data/train.csv\")\n",
    "\n",
    "# Split the training data into training and validation sets (80/20 split)\n",
    "train_data, val_data = random_split(whole_train, [0.8, 0.2])\n",
    "\n",
    "# Make pandas dfs based on the split \n",
    "train_df = whole_train.iloc[train_data.indices]\n",
    "val_df = whole_train.iloc[val_data.indices]\n",
    "\n",
    "# Compute the mean and std of training, to ensure no data leakage to validation set\n",
    "train_tensor = torch.tensor(train_df.drop(columns=[\"Sex\", \"Rings\"]).values, dtype=torch.float)\n",
    "train_mean, train_std = train_tensor.mean(dim=0, keepdim=True), train_tensor.std(dim=0, keepdim=True)\n",
    "\n",
    "train_dataset = MyDataset(train_df, mean=train_mean, std=train_std, train=True)\n",
    "val_dataset = MyDataset(val_df, mean=train_mean, std=train_std, train=True)\n",
    "\n",
    "# Create DataLoaders for mini-batch training\n",
    "batch_size = 32\n",
    "train_loader = DataLoader(train_dataset, batch_size=batch_size, shuffle=True)\n",
    "val_loader = DataLoader(val_dataset, batch_size=batch_size, shuffle=False)"
   ]
  },
  {
   "cell_type": "markdown",
   "id": "3b8ed22c",
   "metadata": {},
   "source": [
    "### MLP Definition"
   ]
  },
  {
   "cell_type": "markdown",
   "id": "9ebcdfc6",
   "metadata": {},
   "source": [
    "**Baseline Model**\n",
    "- Architecture: Two hidden layers (64 → 32 neurons) as this is a smaller dataset. lower and larger counts were tested, but gave worse and similar performance.\n",
    "- Activation: `ReLU` for stable gradients and efficient learning.\n",
    "- Design Choice: No additional layers like BatchNorm, keeping the model straightforward.\n",
    "\n",
    "**Advanced Model**\n",
    "- Architecture & Activation: Same as baseline.\n",
    "- Normalization: `BatchNorm1d` noralization activations, reducing internal covariance shift and stabilizing training.\n",
    "- Regularization: `L1 regularization` addresses the high feature correlation by pushing redundant weights to zero. I considered dropout regularization but chose Lasso given it resulted in a better performance."
   ]
  },
  {
   "cell_type": "code",
   "execution_count": 8,
   "id": "2eae8b09",
   "metadata": {},
   "outputs": [
    {
     "name": "stdout",
     "output_type": "stream",
     "text": [
      "Baseline Model: \n",
      " BaselineMLP(\n",
      "  (fc): Sequential(\n",
      "    (0): Linear(in_features=10, out_features=64, bias=True)\n",
      "    (1): ReLU()\n",
      "    (2): Linear(in_features=64, out_features=32, bias=True)\n",
      "    (3): ReLU()\n",
      "    (4): Linear(in_features=32, out_features=1, bias=True)\n",
      "  )\n",
      ")\n",
      "\n",
      "Advanced Model: \n",
      " MyMLP(\n",
      "  (fc): Sequential(\n",
      "    (0): Linear(in_features=10, out_features=64, bias=True)\n",
      "    (1): BatchNorm1d(64, eps=1e-05, momentum=0.1, affine=True, track_running_stats=True)\n",
      "    (2): ReLU()\n",
      "    (3): Linear(in_features=64, out_features=32, bias=True)\n",
      "    (4): BatchNorm1d(32, eps=1e-05, momentum=0.1, affine=True, track_running_stats=True)\n",
      "    (5): ReLU()\n",
      "    (6): Linear(in_features=32, out_features=1, bias=True)\n",
      "  )\n",
      ")\n"
     ]
    }
   ],
   "source": [
    "class BaselineMLP(nn.Module):\n",
    "    def __init__(self, input_dim=10):\n",
    "        super().__init__()\n",
    "        self.fc = nn.Sequential(\n",
    "            nn.Linear(input_dim, 64),\n",
    "            nn.ReLU(),  \n",
    "            nn.Linear(64, 32),\n",
    "            nn.ReLU(),\n",
    "            nn.Linear(32, 1)\n",
    "        )\n",
    "    \n",
    "    def forward(self, x):\n",
    "        return self.fc(x)\n",
    "\n",
    "class MyMLP(nn.Module):\n",
    "    def __init__(self, input_dim=10):\n",
    "        super().__init__()\n",
    "        self.fc = nn.Sequential(\n",
    "            nn.Linear(input_dim, 64),\n",
    "            nn.BatchNorm1d(64),  \n",
    "            nn.ReLU(),\n",
    "            nn.Linear(64, 32),\n",
    "            nn.BatchNorm1d(32),\n",
    "            nn.ReLU(),\n",
    "            nn.Linear(32, 1)\n",
    "        )\n",
    "    \n",
    "    def forward(self, x):\n",
    "        return self.fc(x)\n",
    "\n",
    "# Instantiate the model\n",
    "baseline = BaselineMLP()\n",
    "model = MyMLP()\n",
    "print(\"Baseline Model: \\n\", baseline)\n",
    "print(\"\\nAdvanced Model: \\n\", model)"
   ]
  },
  {
   "cell_type": "markdown",
   "id": "fba0adfe",
   "metadata": {},
   "source": [
    "### Model Training"
   ]
  },
  {
   "cell_type": "code",
   "execution_count": 9,
   "id": "9b90a3fa",
   "metadata": {},
   "outputs": [],
   "source": [
    "def train_model(model, criterion, optimizer, train_loader, val_loader, num_epochs, device, patience, lambda_reg=None):\n",
    "    # L1 regularization as sub function\n",
    "    def l1_regularization(model, lambda_reg):\n",
    "        l1_penalty = sum(param.abs().sum() for param in model.parameters())\n",
    "        return lambda_reg * l1_penalty\n",
    "    \n",
    "    if ONLY_INFERENCE:\n",
    "        return None, None\n",
    "    \n",
    "    model.to(device)\n",
    "    best_val_loss = float(\"inf\")\n",
    "    best_state = None\n",
    "    train_losses = []\n",
    "    val_losses = []\n",
    "    \n",
    "    for epoch in range(1, num_epochs+1):\n",
    "        # Training\n",
    "        model.train()\n",
    "        running_loss = 0.0\n",
    "        for features, labels in train_loader:\n",
    "            features, labels = features.to(device), labels.to(device)\n",
    "            optimizer.zero_grad()\n",
    "            outputs = model(features)\n",
    "            loss = criterion(outputs, labels)\n",
    "            if lambda_reg:\n",
    "                loss += l1_regularization(model, lambda_reg)\n",
    "            loss.backward()\n",
    "            optimizer.step()\n",
    "            # Given we are using MSE loss, we need to multiply by the batch size to get the total loss \n",
    "            running_loss += loss.item() * features.size(0) \n",
    "        \n",
    "        epoch_train_loss = running_loss / len(train_loader.dataset)\n",
    "        train_losses.append(epoch_train_loss)\n",
    "        \n",
    "        # Validation\n",
    "        model.eval()\n",
    "        val_loss = 0.0\n",
    "        with torch.no_grad():\n",
    "            for features, labels in val_loader:\n",
    "                features, labels = features.to(device), labels.to(device)\n",
    "                outputs = model(features)\n",
    "                loss = criterion(outputs, labels)\n",
    "                # Again compute batch loss\n",
    "                val_loss += loss.item() * features.size(0)\n",
    "        epoch_val_loss = val_loss / len(val_loader.dataset)\n",
    "        val_losses.append(epoch_val_loss)\n",
    "        \n",
    "        print(f\"Epoch {epoch}/{num_epochs}, Train MSE Loss: {epoch_train_loss:.4f}, Val MSE Loss: {epoch_val_loss:.4f}, Val RMSE Loss: {np.sqrt(epoch_val_loss):.4f}\")\n",
    "        \n",
    "        # Save best model\n",
    "        if epoch_val_loss < best_val_loss:\n",
    "            best_val_loss = epoch_val_loss\n",
    "            # We save the model state_dict to not constantly overwrite\n",
    "            best_state = (epoch, best_val_loss, model.state_dict())\n",
    "        else:\n",
    "            if epoch - best_state[0] >= patience:\n",
    "                print(f\"Early stopping at epoch {epoch}\")\n",
    "                break\n",
    "\n",
    "    if best_state:\n",
    "        # Save the best model state (weights)\n",
    "        print(f\"Best performing epoch: {best_state[0]}, Best Val MSE Loss: {best_state[1]:.4f}, Val RMSE Loss: {np.sqrt(best_state[1]):.4f}\")\n",
    "        torch.save(best_state[2], \"best_model.pt\")\n",
    "\n",
    "    return train_losses, val_losses"
   ]
  },
  {
   "cell_type": "code",
   "execution_count": 10,
   "id": "be848996",
   "metadata": {},
   "outputs": [],
   "source": [
    "# loss curve plot \n",
    "def plot_loss_curves(train_losses, val_losses, model_name=\"\"):\n",
    "    if ONLY_INFERENCE:\n",
    "        return\n",
    "    plt.plot(range(1, len(train_losses)+1), train_losses, label=\"Train Loss\")\n",
    "    plt.plot(range(1, len(val_losses)+1), val_losses, label=\"Validation Loss\")\n",
    "    plt.xlabel(\"Epoch\")\n",
    "    plt.ylabel(\"MSE Loss\")\n",
    "    plt.title(\"Train, Validation Loss Curve: \" + model_name)\n",
    "    plt.legend()\n",
    "    plt.grid()\n",
    "    plt.show()"
   ]
  },
  {
   "cell_type": "markdown",
   "id": "d07b2091",
   "metadata": {},
   "source": [
    "Further choices that have been made regarding the optimizer, criterion and epoch count are outlined below:\n",
    "\n",
    "`Adam (lr=1e-2)`: Provided the best performance.\n",
    "\n",
    "`MSE Loss`: Standard for regression tasks. Predicting “rings” is the target, so MSE directly measures squared deviation from the actual age. We can also get the square root of that value to get average error which is a natural and interpretable way to evaluate the performance.\n",
    "\n",
    "`100 epochs`: Sufficient to allow convergence for this small dataset, as verified by the small deviations after ∼20 epochs in the loss graph.\n",
    "\n",
    "`Early Stoppage`: Early stoppage with a patience of `25 epochs` is added, meaning if that the validation loss has not improved in after 25 epochs, we exit early."
   ]
  },
  {
   "cell_type": "code",
   "execution_count": 11,
   "id": "16c1a420",
   "metadata": {},
   "outputs": [],
   "source": [
    "# Set up training parameters\n",
    "device = torch.device(\"cuda\" if torch.cuda.is_available() else \"cpu\")\n",
    "criterion = nn.MSELoss()\n",
    "optimizer = optim.Adam(model.parameters(), lr=1e-2)\n",
    "optimizer_baseline = optim.Adam(baseline.parameters(), lr=1e-2)\n",
    "epochs = 100\n",
    "patience = 25"
   ]
  },
  {
   "cell_type": "code",
   "execution_count": 12,
   "id": "236d6e24",
   "metadata": {},
   "outputs": [
    {
     "name": "stdout",
     "output_type": "stream",
     "text": [
      "Epoch 1/100, Train MSE Loss: 18.2394, Val MSE Loss: 4.2179, Val RMSE Loss: 2.0538\n",
      "Epoch 2/100, Train MSE Loss: 5.2415, Val MSE Loss: 4.7311, Val RMSE Loss: 2.1751\n",
      "Epoch 3/100, Train MSE Loss: 5.1310, Val MSE Loss: 4.1339, Val RMSE Loss: 2.0332\n",
      "Epoch 4/100, Train MSE Loss: 5.0376, Val MSE Loss: 3.9139, Val RMSE Loss: 1.9784\n",
      "Epoch 5/100, Train MSE Loss: 5.0503, Val MSE Loss: 4.2982, Val RMSE Loss: 2.0732\n",
      "Epoch 6/100, Train MSE Loss: 4.9124, Val MSE Loss: 3.6738, Val RMSE Loss: 1.9167\n",
      "Epoch 7/100, Train MSE Loss: 4.9782, Val MSE Loss: 3.7204, Val RMSE Loss: 1.9288\n",
      "Epoch 8/100, Train MSE Loss: 4.8779, Val MSE Loss: 3.8046, Val RMSE Loss: 1.9505\n",
      "Epoch 9/100, Train MSE Loss: 4.9677, Val MSE Loss: 4.0740, Val RMSE Loss: 2.0184\n",
      "Epoch 10/100, Train MSE Loss: 5.3953, Val MSE Loss: 3.8941, Val RMSE Loss: 1.9733\n",
      "Epoch 11/100, Train MSE Loss: 4.8393, Val MSE Loss: 3.7440, Val RMSE Loss: 1.9349\n",
      "Epoch 12/100, Train MSE Loss: 4.8767, Val MSE Loss: 3.6070, Val RMSE Loss: 1.8992\n",
      "Epoch 13/100, Train MSE Loss: 4.7185, Val MSE Loss: 4.0847, Val RMSE Loss: 2.0211\n",
      "Epoch 14/100, Train MSE Loss: 4.7401, Val MSE Loss: 3.7442, Val RMSE Loss: 1.9350\n",
      "Epoch 15/100, Train MSE Loss: 4.8063, Val MSE Loss: 4.4844, Val RMSE Loss: 2.1176\n",
      "Epoch 16/100, Train MSE Loss: 4.9821, Val MSE Loss: 3.5989, Val RMSE Loss: 1.8971\n",
      "Epoch 17/100, Train MSE Loss: 4.7738, Val MSE Loss: 3.5537, Val RMSE Loss: 1.8851\n",
      "Epoch 18/100, Train MSE Loss: 4.9347, Val MSE Loss: 3.7045, Val RMSE Loss: 1.9247\n",
      "Epoch 19/100, Train MSE Loss: 4.6974, Val MSE Loss: 6.3626, Val RMSE Loss: 2.5224\n",
      "Epoch 20/100, Train MSE Loss: 4.8081, Val MSE Loss: 3.7078, Val RMSE Loss: 1.9256\n",
      "Epoch 21/100, Train MSE Loss: 4.6950, Val MSE Loss: 4.1142, Val RMSE Loss: 2.0284\n",
      "Epoch 22/100, Train MSE Loss: 4.9722, Val MSE Loss: 4.4867, Val RMSE Loss: 2.1182\n",
      "Epoch 23/100, Train MSE Loss: 4.9737, Val MSE Loss: 4.6557, Val RMSE Loss: 2.1577\n",
      "Epoch 24/100, Train MSE Loss: 4.7411, Val MSE Loss: 3.6410, Val RMSE Loss: 1.9081\n",
      "Epoch 25/100, Train MSE Loss: 4.5400, Val MSE Loss: 4.1870, Val RMSE Loss: 2.0462\n",
      "Epoch 26/100, Train MSE Loss: 4.7375, Val MSE Loss: 3.7856, Val RMSE Loss: 1.9457\n",
      "Epoch 27/100, Train MSE Loss: 4.6408, Val MSE Loss: 3.8428, Val RMSE Loss: 1.9603\n",
      "Epoch 28/100, Train MSE Loss: 4.6418, Val MSE Loss: 3.6533, Val RMSE Loss: 1.9114\n",
      "Epoch 29/100, Train MSE Loss: 4.7276, Val MSE Loss: 4.5926, Val RMSE Loss: 2.1430\n",
      "Epoch 30/100, Train MSE Loss: 4.6080, Val MSE Loss: 3.6775, Val RMSE Loss: 1.9177\n",
      "Epoch 31/100, Train MSE Loss: 4.5818, Val MSE Loss: 3.5353, Val RMSE Loss: 1.8802\n",
      "Epoch 32/100, Train MSE Loss: 4.5983, Val MSE Loss: 5.1796, Val RMSE Loss: 2.2759\n",
      "Epoch 33/100, Train MSE Loss: 4.7148, Val MSE Loss: 3.8078, Val RMSE Loss: 1.9514\n",
      "Epoch 34/100, Train MSE Loss: 4.6840, Val MSE Loss: 4.0067, Val RMSE Loss: 2.0017\n",
      "Epoch 35/100, Train MSE Loss: 4.7549, Val MSE Loss: 3.6677, Val RMSE Loss: 1.9151\n",
      "Epoch 36/100, Train MSE Loss: 4.4844, Val MSE Loss: 3.8180, Val RMSE Loss: 1.9540\n",
      "Epoch 37/100, Train MSE Loss: 4.6058, Val MSE Loss: 3.8310, Val RMSE Loss: 1.9573\n",
      "Epoch 38/100, Train MSE Loss: 4.6457, Val MSE Loss: 4.1122, Val RMSE Loss: 2.0279\n",
      "Epoch 39/100, Train MSE Loss: 4.5284, Val MSE Loss: 3.9872, Val RMSE Loss: 1.9968\n",
      "Epoch 40/100, Train MSE Loss: 4.4865, Val MSE Loss: 3.7110, Val RMSE Loss: 1.9264\n",
      "Epoch 41/100, Train MSE Loss: 4.6886, Val MSE Loss: 3.7597, Val RMSE Loss: 1.9390\n",
      "Epoch 42/100, Train MSE Loss: 4.6039, Val MSE Loss: 4.1486, Val RMSE Loss: 2.0368\n",
      "Epoch 43/100, Train MSE Loss: 4.7257, Val MSE Loss: 3.5651, Val RMSE Loss: 1.8881\n",
      "Epoch 44/100, Train MSE Loss: 4.5287, Val MSE Loss: 3.7241, Val RMSE Loss: 1.9298\n",
      "Epoch 45/100, Train MSE Loss: 4.7365, Val MSE Loss: 3.5779, Val RMSE Loss: 1.8915\n",
      "Epoch 46/100, Train MSE Loss: 4.4415, Val MSE Loss: 3.5968, Val RMSE Loss: 1.8965\n",
      "Epoch 47/100, Train MSE Loss: 4.6210, Val MSE Loss: 3.9516, Val RMSE Loss: 1.9879\n",
      "Epoch 48/100, Train MSE Loss: 4.5730, Val MSE Loss: 3.6690, Val RMSE Loss: 1.9155\n",
      "Epoch 49/100, Train MSE Loss: 4.5998, Val MSE Loss: 4.1638, Val RMSE Loss: 2.0405\n",
      "Epoch 50/100, Train MSE Loss: 4.7575, Val MSE Loss: 3.8059, Val RMSE Loss: 1.9509\n",
      "Epoch 51/100, Train MSE Loss: 4.6214, Val MSE Loss: 3.5652, Val RMSE Loss: 1.8882\n",
      "Epoch 52/100, Train MSE Loss: 4.8142, Val MSE Loss: 3.6577, Val RMSE Loss: 1.9125\n",
      "Epoch 53/100, Train MSE Loss: 4.5714, Val MSE Loss: 3.5395, Val RMSE Loss: 1.8813\n",
      "Epoch 54/100, Train MSE Loss: 4.5208, Val MSE Loss: 3.7006, Val RMSE Loss: 1.9237\n",
      "Epoch 55/100, Train MSE Loss: 4.5994, Val MSE Loss: 3.5858, Val RMSE Loss: 1.8936\n",
      "Epoch 56/100, Train MSE Loss: 4.4219, Val MSE Loss: 3.7752, Val RMSE Loss: 1.9430\n",
      "Early stopping at epoch 56\n",
      "Best performing epoch: 31, Best Val MSE Loss: 3.5353, Val RMSE Loss: 1.8802\n"
     ]
    },
    {
     "data": {
      "image/png": "[encoded data removed]",
      "text/plain": [
       "<Figure size 640x480 with 1 Axes>"
      ]
     },
     "metadata": {},
     "output_type": "display_data"
    }
   ],
   "source": [
    "# Train the baseline model\n",
    "baseline_train_losses, baseline_val_losses = train_model(baseline, criterion, optimizer_baseline, train_loader, val_loader, epochs, device, patience)\n",
    "plot_loss_curves(baseline_train_losses, baseline_val_losses, \"Baseline Model\")"
   ]
  },
  {
   "cell_type": "markdown",
   "id": "5133dfda",
   "metadata": {},
   "source": [
    "The model predicts the age of abalone with an average error of about 2 rings.\n",
    "\n",
    "While the validation MSE and RMSE indicate that the model performs reasonably well, there is noticeable variability in the loss, suggesting some fluctuations in learning stability.\n"
   ]
  },
  {
   "cell_type": "code",
   "execution_count": 13,
   "id": "6a754974",
   "metadata": {},
   "outputs": [
    {
     "name": "stdout",
     "output_type": "stream",
     "text": [
      "Epoch 1/100, Train MSE Loss: 32.5963, Val MSE Loss: 5.9653, Val RMSE Loss: 2.4424\n",
      "Epoch 2/100, Train MSE Loss: 6.4675, Val MSE Loss: 4.3442, Val RMSE Loss: 2.0843\n",
      "Epoch 3/100, Train MSE Loss: 6.0297, Val MSE Loss: 4.0858, Val RMSE Loss: 2.0213\n",
      "Epoch 4/100, Train MSE Loss: 5.9881, Val MSE Loss: 3.7906, Val RMSE Loss: 1.9469\n",
      "Epoch 5/100, Train MSE Loss: 5.8234, Val MSE Loss: 3.9066, Val RMSE Loss: 1.9765\n",
      "Epoch 6/100, Train MSE Loss: 5.7714, Val MSE Loss: 3.7082, Val RMSE Loss: 1.9257\n",
      "Epoch 7/100, Train MSE Loss: 5.8432, Val MSE Loss: 3.7253, Val RMSE Loss: 1.9301\n",
      "Epoch 8/100, Train MSE Loss: 5.6803, Val MSE Loss: 3.9522, Val RMSE Loss: 1.9880\n",
      "Epoch 9/100, Train MSE Loss: 5.4684, Val MSE Loss: 3.7828, Val RMSE Loss: 1.9449\n",
      "Epoch 10/100, Train MSE Loss: 5.7076, Val MSE Loss: 3.7338, Val RMSE Loss: 1.9323\n",
      "Epoch 11/100, Train MSE Loss: 5.7721, Val MSE Loss: 3.9788, Val RMSE Loss: 1.9947\n",
      "Epoch 12/100, Train MSE Loss: 5.5076, Val MSE Loss: 3.5614, Val RMSE Loss: 1.8872\n",
      "Epoch 13/100, Train MSE Loss: 5.3222, Val MSE Loss: 3.6484, Val RMSE Loss: 1.9101\n",
      "Epoch 14/100, Train MSE Loss: 5.4643, Val MSE Loss: 4.0927, Val RMSE Loss: 2.0230\n",
      "Epoch 15/100, Train MSE Loss: 5.4041, Val MSE Loss: 3.8206, Val RMSE Loss: 1.9546\n",
      "Epoch 16/100, Train MSE Loss: 5.3352, Val MSE Loss: 4.0094, Val RMSE Loss: 2.0023\n",
      "Epoch 17/100, Train MSE Loss: 5.5300, Val MSE Loss: 4.4114, Val RMSE Loss: 2.1003\n",
      "Epoch 18/100, Train MSE Loss: 5.1849, Val MSE Loss: 3.6230, Val RMSE Loss: 1.9034\n",
      "Epoch 19/100, Train MSE Loss: 5.3648, Val MSE Loss: 3.6412, Val RMSE Loss: 1.9082\n",
      "Epoch 20/100, Train MSE Loss: 5.4904, Val MSE Loss: 4.0799, Val RMSE Loss: 2.0199\n",
      "Epoch 21/100, Train MSE Loss: 5.2572, Val MSE Loss: 3.6612, Val RMSE Loss: 1.9134\n",
      "Epoch 22/100, Train MSE Loss: 5.1570, Val MSE Loss: 3.6481, Val RMSE Loss: 1.9100\n",
      "Epoch 23/100, Train MSE Loss: 5.2996, Val MSE Loss: 3.6001, Val RMSE Loss: 1.8974\n",
      "Epoch 24/100, Train MSE Loss: 5.2413, Val MSE Loss: 3.5926, Val RMSE Loss: 1.8954\n",
      "Epoch 25/100, Train MSE Loss: 5.1985, Val MSE Loss: 3.5729, Val RMSE Loss: 1.8902\n",
      "Epoch 26/100, Train MSE Loss: 5.5532, Val MSE Loss: 4.4937, Val RMSE Loss: 2.1198\n",
      "Epoch 27/100, Train MSE Loss: 5.1427, Val MSE Loss: 3.4709, Val RMSE Loss: 1.8630\n",
      "Epoch 28/100, Train MSE Loss: 5.1935, Val MSE Loss: 3.5843, Val RMSE Loss: 1.8932\n",
      "Epoch 29/100, Train MSE Loss: 5.1472, Val MSE Loss: 3.6264, Val RMSE Loss: 1.9043\n",
      "Epoch 30/100, Train MSE Loss: 5.2842, Val MSE Loss: 3.5276, Val RMSE Loss: 1.8782\n",
      "Epoch 31/100, Train MSE Loss: 5.1318, Val MSE Loss: 3.4831, Val RMSE Loss: 1.8663\n",
      "Epoch 32/100, Train MSE Loss: 5.3473, Val MSE Loss: 3.5562, Val RMSE Loss: 1.8858\n",
      "Epoch 33/100, Train MSE Loss: 5.3176, Val MSE Loss: 3.6273, Val RMSE Loss: 1.9046\n",
      "Epoch 34/100, Train MSE Loss: 5.0911, Val MSE Loss: 3.4471, Val RMSE Loss: 1.8566\n",
      "Epoch 35/100, Train MSE Loss: 5.0700, Val MSE Loss: 3.9886, Val RMSE Loss: 1.9972\n",
      "Epoch 36/100, Train MSE Loss: 5.1738, Val MSE Loss: 3.5679, Val RMSE Loss: 1.8889\n",
      "Epoch 37/100, Train MSE Loss: 5.0717, Val MSE Loss: 3.5937, Val RMSE Loss: 1.8957\n",
      "Epoch 38/100, Train MSE Loss: 5.2688, Val MSE Loss: 3.6259, Val RMSE Loss: 1.9042\n",
      "Epoch 39/100, Train MSE Loss: 5.2311, Val MSE Loss: 3.7527, Val RMSE Loss: 1.9372\n",
      "Epoch 40/100, Train MSE Loss: 4.9249, Val MSE Loss: 3.7259, Val RMSE Loss: 1.9303\n",
      "Epoch 41/100, Train MSE Loss: 4.9703, Val MSE Loss: 3.5376, Val RMSE Loss: 1.8808\n",
      "Epoch 42/100, Train MSE Loss: 5.0871, Val MSE Loss: 3.8619, Val RMSE Loss: 1.9652\n",
      "Epoch 43/100, Train MSE Loss: 5.0867, Val MSE Loss: 3.7247, Val RMSE Loss: 1.9299\n",
      "Epoch 44/100, Train MSE Loss: 4.9965, Val MSE Loss: 3.8752, Val RMSE Loss: 1.9685\n",
      "Epoch 45/100, Train MSE Loss: 5.1032, Val MSE Loss: 3.8137, Val RMSE Loss: 1.9529\n",
      "Epoch 46/100, Train MSE Loss: 4.8400, Val MSE Loss: 3.5165, Val RMSE Loss: 1.8752\n",
      "Epoch 47/100, Train MSE Loss: 5.0068, Val MSE Loss: 3.6564, Val RMSE Loss: 1.9122\n",
      "Epoch 48/100, Train MSE Loss: 5.1585, Val MSE Loss: 3.8145, Val RMSE Loss: 1.9531\n",
      "Epoch 49/100, Train MSE Loss: 4.9084, Val MSE Loss: 3.5494, Val RMSE Loss: 1.8840\n",
      "Epoch 50/100, Train MSE Loss: 5.0286, Val MSE Loss: 3.8518, Val RMSE Loss: 1.9626\n",
      "Epoch 51/100, Train MSE Loss: 5.0433, Val MSE Loss: 3.6953, Val RMSE Loss: 1.9223\n",
      "Epoch 52/100, Train MSE Loss: 4.9668, Val MSE Loss: 3.5943, Val RMSE Loss: 1.8959\n",
      "Epoch 53/100, Train MSE Loss: 4.9593, Val MSE Loss: 3.8897, Val RMSE Loss: 1.9722\n",
      "Epoch 54/100, Train MSE Loss: 5.0764, Val MSE Loss: 3.5494, Val RMSE Loss: 1.8840\n",
      "Epoch 55/100, Train MSE Loss: 5.1593, Val MSE Loss: 3.6897, Val RMSE Loss: 1.9209\n",
      "Epoch 56/100, Train MSE Loss: 4.9067, Val MSE Loss: 3.5259, Val RMSE Loss: 1.8777\n",
      "Epoch 57/100, Train MSE Loss: 4.9852, Val MSE Loss: 3.6203, Val RMSE Loss: 1.9027\n",
      "Epoch 58/100, Train MSE Loss: 4.9292, Val MSE Loss: 3.7337, Val RMSE Loss: 1.9323\n",
      "Epoch 59/100, Train MSE Loss: 5.1486, Val MSE Loss: 3.5804, Val RMSE Loss: 1.8922\n",
      "Early stopping at epoch 59\n",
      "Best performing epoch: 34, Best Val MSE Loss: 3.4471, Val RMSE Loss: 1.8566\n"
     ]
    },
    {
     "data": {
      "image/png": "[encoded data removed]",
      "text/plain": [
       "<Figure size 640x480 with 1 Axes>"
      ]
     },
     "metadata": {},
     "output_type": "display_data"
    }
   ],
   "source": [
    "# Train the model\n",
    "train_losses, val_losses = train_model(model, criterion, optimizer, train_loader, val_loader, epochs, device, patience, lambda_reg=1e-3)\n",
    "plot_loss_curves(train_losses, val_losses, \"Advanced Model\")"
   ]
  },
  {
   "cell_type": "markdown",
   "id": "55729def",
   "metadata": {},
   "source": [
    "The model predicts the age of abalone with an average error of about 2 rings.\n",
    "The low validation MSE and RMSE suggest that the model is performing well, with minimal overfitting as seen in the close alignment of training and validation loss curves."
   ]
  },
  {
   "cell_type": "markdown",
   "id": "d38fb8b2",
   "metadata": {},
   "source": [
    "Both models end up with similar final validation MSE/RMSE, so overall performance is about the same. However, the advanced model shows more stable training curves with fewer spikes, which suggests better training stability and potentially better generalization if scaled up or tuned further."
   ]
  },
  {
   "cell_type": "markdown",
   "id": "49dc167c",
   "metadata": {},
   "source": [
    "### [Inference](#inference)"
   ]
  },
  {
   "cell_type": "code",
   "execution_count": 14,
   "id": "e52bf3cb",
   "metadata": {},
   "outputs": [],
   "source": [
    "# Load the test dataset\n",
    "test_dataset = MyDataset(pd.read_csv(\"data/test.csv\"), mean=train_mean, std=train_std, train=False)\n",
    "test_loader = DataLoader(test_dataset, batch_size=batch_size, shuffle=False)\n",
    "\n",
    "# Load the best model\n",
    "model.load_state_dict(torch.load('best_model.pt', weights_only=True))\n",
    "# Set the model to evaluation mode\n",
    "model.eval()\n",
    "\n",
    "predictions = []\n",
    "with torch.no_grad():\n",
    "    # Iterate over the test data and generate predictions\n",
    "    for features in test_loader: \n",
    "        features = features.to(device)\n",
    "        outputs = model(features)\n",
    "        \n",
    "        # Outputs are floats, we can round the predictions to the nearest integer (Rings)\n",
    "        if ROUND_PRED_TO_INTEGER:\n",
    "            predictions.extend(torch.round(outputs.squeeze()).int().tolist())\n",
    "        else:\n",
    "            predictions.extend(outputs.squeeze().tolist())\n",
    "        \n",
    "# Save predictions (Rings) to a new CSV file with test data\n",
    "output_df = pd.read_csv(\"data/test.csv\")\n",
    "output_df['Rings'] = predictions\n",
    "output_df.to_csv(f\"test{'_int' if ROUND_PRED_TO_INTEGER else ''}.csv\", index=False)"
   ]
  }
 ],
 "metadata": {
  "kernelspec": {
   "display_name": "dl",
   "language": "python",
   "name": "python3"
  },
  "language_info": {
   "codemirror_mode": {
    "name": "ipython",
    "version": 3
   },
   "file_extension": ".py",
   "mimetype": "text/x-python",
   "name": "python",
   "nbconvert_exporter": "python",
   "pygments_lexer": "ipython3",
   "version": "3.13.1"
  }
 },
 "nbformat": 4,
 "nbformat_minor": 5
}
